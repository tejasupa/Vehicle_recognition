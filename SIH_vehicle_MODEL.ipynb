{
 "cells": [
  {
   "cell_type": "code",
   "execution_count": 2,
   "metadata": {},
   "outputs": [],
   "source": [
    "#import tensorflow as tf\n",
    "from keras.models import Sequential\n",
    "from keras.layers import Dense, Conv2D, Flatten, Dropout, MaxPool2D\n",
    "from keras.preprocessing.image import ImageDataGenerator\n",
    "from keras.preprocessing import image \n",
    "from keras.optimizers import Adam\n",
    "import keras\n",
    "import numpy as np\n",
    "import matplotlib.pyplot as plt\n",
    "import PIL\n",
    "import cv2 \n"
   ]
  },
  {
   "cell_type": "code",
   "execution_count": null,
   "metadata": {},
   "outputs": [],
   "source": [
    "#img = image.load_img('./Images/test\\\\')"
   ]
  },
  {
   "cell_type": "code",
   "execution_count": null,
   "metadata": {},
   "outputs": [],
   "source": [
    "plt.imshow(img)"
   ]
  },
  {
   "cell_type": "code",
   "execution_count": null,
   "metadata": {},
   "outputs": [],
   "source": [
    "b_s = 8"
   ]
  },
  {
   "cell_type": "markdown",
   "metadata": {},
   "source": [
    "Building a network model\n"
   ]
  },
  {
   "cell_type": "code",
   "execution_count": 2,
   "metadata": {},
   "outputs": [],
   "source": [
    "cnn = Sequential()\n",
    "#Adding 1st Convolution and Pooling Layer\n",
    "cnn.add(Conv2D(32, 3 ,input_shape=(150,150,3),activation='relu'))\n",
    "cnn.add(MaxPool2D(pool_size=(2,2)))\n",
    "cnn.add(Dropout(0.2))\n",
    "#Adding 2nd Convolution and Pooling Layer\n",
    "cnn.add(Conv2D(64, 3,activation='relu'))\n",
    "cnn.add(MaxPool2D(pool_size=(2,2)))\n",
    "cnn.add(Dropout(0.2))\n",
    "#Adding 3rd Convolution and Pooling Layer\n",
    "cnn.add(Conv2D(128, 3,activation='relu'))\n",
    "cnn.add(MaxPool2D(pool_size=(2,2)))\n",
    "cnn.add(Dropout(0.5))\n",
    "\n",
    "\n",
    "\n",
    "#Flatten\n",
    "cnn.add(Flatten())\n",
    "\n",
    "#Adding Input and Output Layer\n",
    "cnn.add(Dense(units=512,activation='relu'))\n",
    "cnn.add(Dense(units=512,activation='relu'))\n",
    "cnn.add(Dense(units=128,activation='relu'))\n",
    "cnn.add(Dense(units=46,activation='softmax'))\n",
    "\n",
    "#opt = tf.keras.optimizers.Adam(learning_rate=0.02)\n",
    "cnn.compile(optimizer = 'adam', loss = 'categorical_crossentropy', metrics = ['accuracy'])\n"
   ]
  },
  {
   "cell_type": "code",
   "execution_count": 3,
   "metadata": {},
   "outputs": [
    {
     "name": "stdout",
     "output_type": "stream",
     "text": [
      "Model: \"sequential\"\n",
      "_________________________________________________________________\n",
      "Layer (type)                 Output Shape              Param #   \n",
      "=================================================================\n",
      "conv2d (Conv2D)              (None, 148, 148, 32)      896       \n",
      "_________________________________________________________________\n",
      "max_pooling2d (MaxPooling2D) (None, 74, 74, 32)        0         \n",
      "_________________________________________________________________\n",
      "dropout (Dropout)            (None, 74, 74, 32)        0         \n",
      "_________________________________________________________________\n",
      "conv2d_1 (Conv2D)            (None, 72, 72, 64)        18496     \n",
      "_________________________________________________________________\n",
      "max_pooling2d_1 (MaxPooling2 (None, 36, 36, 64)        0         \n",
      "_________________________________________________________________\n",
      "dropout_1 (Dropout)          (None, 36, 36, 64)        0         \n",
      "_________________________________________________________________\n",
      "conv2d_2 (Conv2D)            (None, 34, 34, 128)       73856     \n",
      "_________________________________________________________________\n",
      "max_pooling2d_2 (MaxPooling2 (None, 17, 17, 128)       0         \n",
      "_________________________________________________________________\n",
      "dropout_2 (Dropout)          (None, 17, 17, 128)       0         \n",
      "_________________________________________________________________\n",
      "flatten (Flatten)            (None, 36992)             0         \n",
      "_________________________________________________________________\n",
      "dense (Dense)                (None, 512)               18940416  \n",
      "_________________________________________________________________\n",
      "dense_1 (Dense)              (None, 512)               262656    \n",
      "_________________________________________________________________\n",
      "dense_2 (Dense)              (None, 128)               65664     \n",
      "_________________________________________________________________\n",
      "dense_3 (Dense)              (None, 46)                5934      \n",
      "=================================================================\n",
      "Total params: 19,367,918\n",
      "Trainable params: 19,367,918\n",
      "Non-trainable params: 0\n",
      "_________________________________________________________________\n"
     ]
    }
   ],
   "source": [
    "cnn.summary()"
   ]
  },
  {
   "cell_type": "code",
   "execution_count": 4,
   "metadata": {},
   "outputs": [
    {
     "name": "stdout",
     "output_type": "stream",
     "text": [
      "Found 3539 images belonging to 46 classes.\n",
      "Found 3539 images belonging to 46 classes.\n"
     ]
    }
   ],
   "source": [
    "train_datagen = ImageDataGenerator(rescale = 1./255,\n",
    "                                  shear_range = 0.5,\n",
    "                                  zoom_range = 0.5,\n",
    "                                  rotation_range=45,\n",
    "                                  width_shift_range=.15,\n",
    "                                  height_shift_range=.15,\n",
    "                                  horizontal_flip = True)\n",
    "#test_datagen = ImageDataGenerator(rescale = 1./255)\n",
    "\n",
    "\n",
    "\n",
    "training_set = train_datagen.flow_from_directory('./Images/train',\n",
    "                                                target_size = (150,150),\n",
    "                                                batch_size = 32,\n",
    "                                                shuffle=True,\n",
    "                                                color_mode = \"rgb\", \n",
    "                                                class_mode = \"categorical\",\n",
    "                                                )\n",
    "\n",
    "testing_set = train_datagen.flow_from_directory('./Images/test',\n",
    "                                              target_size = (150,150),\n",
    "                                              batch_size = 32,\n",
    "                                              shuffle=True,\n",
    "                                              color_mode = \"rgb\", \n",
    "                                              class_mode = \"categorical\",\n",
    "                                              )\n",
    "\n",
    "\n",
    " "
   ]
  },
  {
   "cell_type": "markdown",
   "metadata": {},
   "source": [
    "Fit the Model"
   ]
  },
  {
   "cell_type": "code",
   "execution_count": 6,
   "metadata": {
    "scrolled": false
   },
   "outputs": [
    {
     "name": "stdout",
     "output_type": "stream",
     "text": [
      "Epoch 1/30\n",
      "110/110 [==============================] - ETA: 0s - loss: 0.3501 - accuracy: 0.8865WARNING:tensorflow:Can save best model only with val_acc available, skipping.\n",
      "110/110 [==============================] - 253s 2s/step - loss: 0.3501 - accuracy: 0.8865 - val_loss: 0.2700 - val_accuracy: 0.9080\n",
      "Epoch 2/30\n",
      "110/110 [==============================] - ETA: 0s - loss: 0.3633 - accuracy: 0.8834WARNING:tensorflow:Can save best model only with val_acc available, skipping.\n",
      "110/110 [==============================] - 218s 2s/step - loss: 0.3633 - accuracy: 0.8834 - val_loss: 0.2615 - val_accuracy: 0.9196\n",
      "Epoch 3/30\n",
      "110/110 [==============================] - ETA: 0s - loss: 0.3414 - accuracy: 0.8896WARNING:tensorflow:Can save best model only with val_acc available, skipping.\n",
      "110/110 [==============================] - 214s 2s/step - loss: 0.3414 - accuracy: 0.8896 - val_loss: 0.2574 - val_accuracy: 0.9224\n",
      "Epoch 4/30\n",
      "110/110 [==============================] - ETA: 0s - loss: 0.3319 - accuracy: 0.8945WARNING:tensorflow:Can save best model only with val_acc available, skipping.\n",
      "110/110 [==============================] - 203s 2s/step - loss: 0.3319 - accuracy: 0.8945 - val_loss: 0.2083 - val_accuracy: 0.9312\n",
      "Epoch 5/30\n",
      "110/110 [==============================] - ETA: 0s - loss: 0.3628 - accuracy: 0.8802WARNING:tensorflow:Can save best model only with val_acc available, skipping.\n",
      "110/110 [==============================] - 206s 2s/step - loss: 0.3628 - accuracy: 0.8802 - val_loss: 0.3144 - val_accuracy: 0.8980\n",
      "Epoch 6/30\n",
      "110/110 [==============================] - ETA: 0s - loss: 0.3383 - accuracy: 0.8919WARNING:tensorflow:Can save best model only with val_acc available, skipping.\n",
      "110/110 [==============================] - 257s 2s/step - loss: 0.3383 - accuracy: 0.8919 - val_loss: 0.1824 - val_accuracy: 0.9398\n",
      "Epoch 7/30\n",
      "110/110 [==============================] - ETA: 0s - loss: 0.3977 - accuracy: 0.8714WARNING:tensorflow:Can save best model only with val_acc available, skipping.\n",
      "110/110 [==============================] - 208s 2s/step - loss: 0.3977 - accuracy: 0.8714 - val_loss: 0.2863 - val_accuracy: 0.9077\n",
      "Epoch 8/30\n",
      "110/110 [==============================] - ETA: 0s - loss: 0.3090 - accuracy: 0.8954WARNING:tensorflow:Can save best model only with val_acc available, skipping.\n",
      "110/110 [==============================] - 201s 2s/step - loss: 0.3090 - accuracy: 0.8954 - val_loss: 0.2337 - val_accuracy: 0.9244\n",
      "Epoch 9/30\n",
      "110/110 [==============================] - ETA: 0s - loss: 0.3433 - accuracy: 0.8885WARNING:tensorflow:Can save best model only with val_acc available, skipping.\n",
      "110/110 [==============================] - 205s 2s/step - loss: 0.3433 - accuracy: 0.8885 - val_loss: 0.2502 - val_accuracy: 0.9187\n",
      "Epoch 10/30\n",
      "110/110 [==============================] - ETA: 0s - loss: 0.3454 - accuracy: 0.8857WARNING:tensorflow:Can save best model only with val_acc available, skipping.\n",
      "110/110 [==============================] - 211s 2s/step - loss: 0.3454 - accuracy: 0.8857 - val_loss: 0.4592 - val_accuracy: 0.8500\n",
      "Epoch 11/30\n",
      "110/110 [==============================] - ETA: 0s - loss: 0.3397 - accuracy: 0.8942WARNING:tensorflow:Can save best model only with val_acc available, skipping.\n",
      "110/110 [==============================] - 210s 2s/step - loss: 0.3397 - accuracy: 0.8942 - val_loss: 0.2907 - val_accuracy: 0.9085\n",
      "Epoch 12/30\n",
      "110/110 [==============================] - ETA: 0s - loss: 0.3401 - accuracy: 0.8931WARNING:tensorflow:Can save best model only with val_acc available, skipping.\n",
      "110/110 [==============================] - 211s 2s/step - loss: 0.3401 - accuracy: 0.8931 - val_loss: 0.2043 - val_accuracy: 0.9321\n",
      "Epoch 13/30\n",
      "110/110 [==============================] - ETA: 0s - loss: 0.3313 - accuracy: 0.8903WARNING:tensorflow:Can save best model only with val_acc available, skipping.\n",
      "110/110 [==============================] - 210s 2s/step - loss: 0.3313 - accuracy: 0.8903 - val_loss: 0.2226 - val_accuracy: 0.9219\n",
      "Epoch 14/30\n",
      "110/110 [==============================] - ETA: 0s - loss: 0.3847 - accuracy: 0.8751WARNING:tensorflow:Can save best model only with val_acc available, skipping.\n",
      "110/110 [==============================] - 219s 2s/step - loss: 0.3847 - accuracy: 0.8751 - val_loss: 0.2380 - val_accuracy: 0.9236\n",
      "Epoch 15/30\n",
      "110/110 [==============================] - ETA: 0s - loss: 0.3683 - accuracy: 0.8822WARNING:tensorflow:Can save best model only with val_acc available, skipping.\n",
      "110/110 [==============================] - 214s 2s/step - loss: 0.3683 - accuracy: 0.8822 - val_loss: 0.3267 - val_accuracy: 0.8949\n",
      "Epoch 16/30\n",
      " 82/110 [=====================>........] - ETA: 26s - loss: 0.3318 - accuracy: 0.8866"
     ]
    },
    {
     "ename": "KeyboardInterrupt",
     "evalue": "",
     "output_type": "error",
     "traceback": [
      "\u001b[1;31m---------------------------------------------------------------------------\u001b[0m",
      "\u001b[1;31mKeyboardInterrupt\u001b[0m                         Traceback (most recent call last)",
      "\u001b[1;32m<ipython-input-6-a5aea50e4871>\u001b[0m in \u001b[0;36m<module>\u001b[1;34m\u001b[0m\n\u001b[0;32m     10\u001b[0m                   \u001b[0mvalidation_data\u001b[0m \u001b[1;33m=\u001b[0m \u001b[0mtesting_set\u001b[0m\u001b[1;33m,\u001b[0m\u001b[1;33m\u001b[0m\u001b[1;33m\u001b[0m\u001b[0m\n\u001b[0;32m     11\u001b[0m                   \u001b[0mvalidation_steps\u001b[0m \u001b[1;33m=\u001b[0m \u001b[1;36m3539\u001b[0m\u001b[1;33m//\u001b[0m\u001b[1;36m32\u001b[0m\u001b[1;33m,\u001b[0m\u001b[1;33m\u001b[0m\u001b[1;33m\u001b[0m\u001b[0m\n\u001b[1;32m---> 12\u001b[1;33m                   \u001b[0mcallbacks\u001b[0m\u001b[1;33m=\u001b[0m\u001b[0mcallbacks_list\u001b[0m\u001b[1;33m\u001b[0m\u001b[1;33m\u001b[0m\u001b[0m\n\u001b[0m\u001b[0;32m     13\u001b[0m                  )\n\u001b[0;32m     14\u001b[0m \u001b[1;33m\u001b[0m\u001b[0m\n",
      "\u001b[1;32m~\\AppData\\Roaming\\Python\\Python37\\site-packages\\tensorflow\\python\\keras\\engine\\training.py\u001b[0m in \u001b[0;36m_method_wrapper\u001b[1;34m(self, *args, **kwargs)\u001b[0m\n\u001b[0;32m     64\u001b[0m   \u001b[1;32mdef\u001b[0m \u001b[0m_method_wrapper\u001b[0m\u001b[1;33m(\u001b[0m\u001b[0mself\u001b[0m\u001b[1;33m,\u001b[0m \u001b[1;33m*\u001b[0m\u001b[0margs\u001b[0m\u001b[1;33m,\u001b[0m \u001b[1;33m**\u001b[0m\u001b[0mkwargs\u001b[0m\u001b[1;33m)\u001b[0m\u001b[1;33m:\u001b[0m\u001b[1;33m\u001b[0m\u001b[1;33m\u001b[0m\u001b[0m\n\u001b[0;32m     65\u001b[0m     \u001b[1;32mif\u001b[0m \u001b[1;32mnot\u001b[0m \u001b[0mself\u001b[0m\u001b[1;33m.\u001b[0m\u001b[0m_in_multi_worker_mode\u001b[0m\u001b[1;33m(\u001b[0m\u001b[1;33m)\u001b[0m\u001b[1;33m:\u001b[0m  \u001b[1;31m# pylint: disable=protected-access\u001b[0m\u001b[1;33m\u001b[0m\u001b[1;33m\u001b[0m\u001b[0m\n\u001b[1;32m---> 66\u001b[1;33m       \u001b[1;32mreturn\u001b[0m \u001b[0mmethod\u001b[0m\u001b[1;33m(\u001b[0m\u001b[0mself\u001b[0m\u001b[1;33m,\u001b[0m \u001b[1;33m*\u001b[0m\u001b[0margs\u001b[0m\u001b[1;33m,\u001b[0m \u001b[1;33m**\u001b[0m\u001b[0mkwargs\u001b[0m\u001b[1;33m)\u001b[0m\u001b[1;33m\u001b[0m\u001b[1;33m\u001b[0m\u001b[0m\n\u001b[0m\u001b[0;32m     67\u001b[0m \u001b[1;33m\u001b[0m\u001b[0m\n\u001b[0;32m     68\u001b[0m     \u001b[1;31m# Running inside `run_distribute_coordinator` already.\u001b[0m\u001b[1;33m\u001b[0m\u001b[1;33m\u001b[0m\u001b[1;33m\u001b[0m\u001b[0m\n",
      "\u001b[1;32m~\\AppData\\Roaming\\Python\\Python37\\site-packages\\tensorflow\\python\\keras\\engine\\training.py\u001b[0m in \u001b[0;36mfit\u001b[1;34m(self, x, y, batch_size, epochs, verbose, callbacks, validation_split, validation_data, shuffle, class_weight, sample_weight, initial_epoch, steps_per_epoch, validation_steps, validation_batch_size, validation_freq, max_queue_size, workers, use_multiprocessing)\u001b[0m\n\u001b[0;32m    846\u001b[0m                 batch_size=batch_size):\n\u001b[0;32m    847\u001b[0m               \u001b[0mcallbacks\u001b[0m\u001b[1;33m.\u001b[0m\u001b[0mon_train_batch_begin\u001b[0m\u001b[1;33m(\u001b[0m\u001b[0mstep\u001b[0m\u001b[1;33m)\u001b[0m\u001b[1;33m\u001b[0m\u001b[1;33m\u001b[0m\u001b[0m\n\u001b[1;32m--> 848\u001b[1;33m               \u001b[0mtmp_logs\u001b[0m \u001b[1;33m=\u001b[0m \u001b[0mtrain_function\u001b[0m\u001b[1;33m(\u001b[0m\u001b[0miterator\u001b[0m\u001b[1;33m)\u001b[0m\u001b[1;33m\u001b[0m\u001b[1;33m\u001b[0m\u001b[0m\n\u001b[0m\u001b[0;32m    849\u001b[0m               \u001b[1;31m# Catch OutOfRangeError for Datasets of unknown size.\u001b[0m\u001b[1;33m\u001b[0m\u001b[1;33m\u001b[0m\u001b[1;33m\u001b[0m\u001b[0m\n\u001b[0;32m    850\u001b[0m               \u001b[1;31m# This blocks until the batch has finished executing.\u001b[0m\u001b[1;33m\u001b[0m\u001b[1;33m\u001b[0m\u001b[1;33m\u001b[0m\u001b[0m\n",
      "\u001b[1;32m~\\AppData\\Roaming\\Python\\Python37\\site-packages\\tensorflow\\python\\eager\\def_function.py\u001b[0m in \u001b[0;36m__call__\u001b[1;34m(self, *args, **kwds)\u001b[0m\n\u001b[0;32m    578\u001b[0m         \u001b[0mxla_context\u001b[0m\u001b[1;33m.\u001b[0m\u001b[0mExit\u001b[0m\u001b[1;33m(\u001b[0m\u001b[1;33m)\u001b[0m\u001b[1;33m\u001b[0m\u001b[1;33m\u001b[0m\u001b[0m\n\u001b[0;32m    579\u001b[0m     \u001b[1;32melse\u001b[0m\u001b[1;33m:\u001b[0m\u001b[1;33m\u001b[0m\u001b[1;33m\u001b[0m\u001b[0m\n\u001b[1;32m--> 580\u001b[1;33m       \u001b[0mresult\u001b[0m \u001b[1;33m=\u001b[0m \u001b[0mself\u001b[0m\u001b[1;33m.\u001b[0m\u001b[0m_call\u001b[0m\u001b[1;33m(\u001b[0m\u001b[1;33m*\u001b[0m\u001b[0margs\u001b[0m\u001b[1;33m,\u001b[0m \u001b[1;33m**\u001b[0m\u001b[0mkwds\u001b[0m\u001b[1;33m)\u001b[0m\u001b[1;33m\u001b[0m\u001b[1;33m\u001b[0m\u001b[0m\n\u001b[0m\u001b[0;32m    581\u001b[0m \u001b[1;33m\u001b[0m\u001b[0m\n\u001b[0;32m    582\u001b[0m     \u001b[1;32mif\u001b[0m \u001b[0mtracing_count\u001b[0m \u001b[1;33m==\u001b[0m \u001b[0mself\u001b[0m\u001b[1;33m.\u001b[0m\u001b[0m_get_tracing_count\u001b[0m\u001b[1;33m(\u001b[0m\u001b[1;33m)\u001b[0m\u001b[1;33m:\u001b[0m\u001b[1;33m\u001b[0m\u001b[1;33m\u001b[0m\u001b[0m\n",
      "\u001b[1;32m~\\AppData\\Roaming\\Python\\Python37\\site-packages\\tensorflow\\python\\eager\\def_function.py\u001b[0m in \u001b[0;36m_call\u001b[1;34m(self, *args, **kwds)\u001b[0m\n\u001b[0;32m    609\u001b[0m       \u001b[1;31m# In this case we have created variables on the first call, so we run the\u001b[0m\u001b[1;33m\u001b[0m\u001b[1;33m\u001b[0m\u001b[1;33m\u001b[0m\u001b[0m\n\u001b[0;32m    610\u001b[0m       \u001b[1;31m# defunned version which is guaranteed to never create variables.\u001b[0m\u001b[1;33m\u001b[0m\u001b[1;33m\u001b[0m\u001b[1;33m\u001b[0m\u001b[0m\n\u001b[1;32m--> 611\u001b[1;33m       \u001b[1;32mreturn\u001b[0m \u001b[0mself\u001b[0m\u001b[1;33m.\u001b[0m\u001b[0m_stateless_fn\u001b[0m\u001b[1;33m(\u001b[0m\u001b[1;33m*\u001b[0m\u001b[0margs\u001b[0m\u001b[1;33m,\u001b[0m \u001b[1;33m**\u001b[0m\u001b[0mkwds\u001b[0m\u001b[1;33m)\u001b[0m  \u001b[1;31m# pylint: disable=not-callable\u001b[0m\u001b[1;33m\u001b[0m\u001b[1;33m\u001b[0m\u001b[0m\n\u001b[0m\u001b[0;32m    612\u001b[0m     \u001b[1;32melif\u001b[0m \u001b[0mself\u001b[0m\u001b[1;33m.\u001b[0m\u001b[0m_stateful_fn\u001b[0m \u001b[1;32mis\u001b[0m \u001b[1;32mnot\u001b[0m \u001b[1;32mNone\u001b[0m\u001b[1;33m:\u001b[0m\u001b[1;33m\u001b[0m\u001b[1;33m\u001b[0m\u001b[0m\n\u001b[0;32m    613\u001b[0m       \u001b[1;31m# Release the lock early so that multiple threads can perform the call\u001b[0m\u001b[1;33m\u001b[0m\u001b[1;33m\u001b[0m\u001b[1;33m\u001b[0m\u001b[0m\n",
      "\u001b[1;32m~\\AppData\\Roaming\\Python\\Python37\\site-packages\\tensorflow\\python\\eager\\function.py\u001b[0m in \u001b[0;36m__call__\u001b[1;34m(self, *args, **kwargs)\u001b[0m\n\u001b[0;32m   2418\u001b[0m     \u001b[1;32mwith\u001b[0m \u001b[0mself\u001b[0m\u001b[1;33m.\u001b[0m\u001b[0m_lock\u001b[0m\u001b[1;33m:\u001b[0m\u001b[1;33m\u001b[0m\u001b[1;33m\u001b[0m\u001b[0m\n\u001b[0;32m   2419\u001b[0m       \u001b[0mgraph_function\u001b[0m\u001b[1;33m,\u001b[0m \u001b[0margs\u001b[0m\u001b[1;33m,\u001b[0m \u001b[0mkwargs\u001b[0m \u001b[1;33m=\u001b[0m \u001b[0mself\u001b[0m\u001b[1;33m.\u001b[0m\u001b[0m_maybe_define_function\u001b[0m\u001b[1;33m(\u001b[0m\u001b[0margs\u001b[0m\u001b[1;33m,\u001b[0m \u001b[0mkwargs\u001b[0m\u001b[1;33m)\u001b[0m\u001b[1;33m\u001b[0m\u001b[1;33m\u001b[0m\u001b[0m\n\u001b[1;32m-> 2420\u001b[1;33m     \u001b[1;32mreturn\u001b[0m \u001b[0mgraph_function\u001b[0m\u001b[1;33m.\u001b[0m\u001b[0m_filtered_call\u001b[0m\u001b[1;33m(\u001b[0m\u001b[0margs\u001b[0m\u001b[1;33m,\u001b[0m \u001b[0mkwargs\u001b[0m\u001b[1;33m)\u001b[0m  \u001b[1;31m# pylint: disable=protected-access\u001b[0m\u001b[1;33m\u001b[0m\u001b[1;33m\u001b[0m\u001b[0m\n\u001b[0m\u001b[0;32m   2421\u001b[0m \u001b[1;33m\u001b[0m\u001b[0m\n\u001b[0;32m   2422\u001b[0m   \u001b[1;33m@\u001b[0m\u001b[0mproperty\u001b[0m\u001b[1;33m\u001b[0m\u001b[1;33m\u001b[0m\u001b[0m\n",
      "\u001b[1;32m~\\AppData\\Roaming\\Python\\Python37\\site-packages\\tensorflow\\python\\eager\\function.py\u001b[0m in \u001b[0;36m_filtered_call\u001b[1;34m(self, args, kwargs)\u001b[0m\n\u001b[0;32m   1663\u001b[0m          if isinstance(t, (ops.Tensor,\n\u001b[0;32m   1664\u001b[0m                            resource_variable_ops.BaseResourceVariable))),\n\u001b[1;32m-> 1665\u001b[1;33m         self.captured_inputs)\n\u001b[0m\u001b[0;32m   1666\u001b[0m \u001b[1;33m\u001b[0m\u001b[0m\n\u001b[0;32m   1667\u001b[0m   \u001b[1;32mdef\u001b[0m \u001b[0m_call_flat\u001b[0m\u001b[1;33m(\u001b[0m\u001b[0mself\u001b[0m\u001b[1;33m,\u001b[0m \u001b[0margs\u001b[0m\u001b[1;33m,\u001b[0m \u001b[0mcaptured_inputs\u001b[0m\u001b[1;33m,\u001b[0m \u001b[0mcancellation_manager\u001b[0m\u001b[1;33m=\u001b[0m\u001b[1;32mNone\u001b[0m\u001b[1;33m)\u001b[0m\u001b[1;33m:\u001b[0m\u001b[1;33m\u001b[0m\u001b[1;33m\u001b[0m\u001b[0m\n",
      "\u001b[1;32m~\\AppData\\Roaming\\Python\\Python37\\site-packages\\tensorflow\\python\\eager\\function.py\u001b[0m in \u001b[0;36m_call_flat\u001b[1;34m(self, args, captured_inputs, cancellation_manager)\u001b[0m\n\u001b[0;32m   1744\u001b[0m       \u001b[1;31m# No tape is watching; skip to running the function.\u001b[0m\u001b[1;33m\u001b[0m\u001b[1;33m\u001b[0m\u001b[1;33m\u001b[0m\u001b[0m\n\u001b[0;32m   1745\u001b[0m       return self._build_call_outputs(self._inference_function.call(\n\u001b[1;32m-> 1746\u001b[1;33m           ctx, args, cancellation_manager=cancellation_manager))\n\u001b[0m\u001b[0;32m   1747\u001b[0m     forward_backward = self._select_forward_and_backward_functions(\n\u001b[0;32m   1748\u001b[0m         \u001b[0margs\u001b[0m\u001b[1;33m,\u001b[0m\u001b[1;33m\u001b[0m\u001b[1;33m\u001b[0m\u001b[0m\n",
      "\u001b[1;32m~\\AppData\\Roaming\\Python\\Python37\\site-packages\\tensorflow\\python\\eager\\function.py\u001b[0m in \u001b[0;36mcall\u001b[1;34m(self, ctx, args, cancellation_manager)\u001b[0m\n\u001b[0;32m    596\u001b[0m               \u001b[0minputs\u001b[0m\u001b[1;33m=\u001b[0m\u001b[0margs\u001b[0m\u001b[1;33m,\u001b[0m\u001b[1;33m\u001b[0m\u001b[1;33m\u001b[0m\u001b[0m\n\u001b[0;32m    597\u001b[0m               \u001b[0mattrs\u001b[0m\u001b[1;33m=\u001b[0m\u001b[0mattrs\u001b[0m\u001b[1;33m,\u001b[0m\u001b[1;33m\u001b[0m\u001b[1;33m\u001b[0m\u001b[0m\n\u001b[1;32m--> 598\u001b[1;33m               ctx=ctx)\n\u001b[0m\u001b[0;32m    599\u001b[0m         \u001b[1;32melse\u001b[0m\u001b[1;33m:\u001b[0m\u001b[1;33m\u001b[0m\u001b[1;33m\u001b[0m\u001b[0m\n\u001b[0;32m    600\u001b[0m           outputs = execute.execute_with_cancellation(\n",
      "\u001b[1;32m~\\AppData\\Roaming\\Python\\Python37\\site-packages\\tensorflow\\python\\eager\\execute.py\u001b[0m in \u001b[0;36mquick_execute\u001b[1;34m(op_name, num_outputs, inputs, attrs, ctx, name)\u001b[0m\n\u001b[0;32m     58\u001b[0m     \u001b[0mctx\u001b[0m\u001b[1;33m.\u001b[0m\u001b[0mensure_initialized\u001b[0m\u001b[1;33m(\u001b[0m\u001b[1;33m)\u001b[0m\u001b[1;33m\u001b[0m\u001b[1;33m\u001b[0m\u001b[0m\n\u001b[0;32m     59\u001b[0m     tensors = pywrap_tfe.TFE_Py_Execute(ctx._handle, device_name, op_name,\n\u001b[1;32m---> 60\u001b[1;33m                                         inputs, attrs, num_outputs)\n\u001b[0m\u001b[0;32m     61\u001b[0m   \u001b[1;32mexcept\u001b[0m \u001b[0mcore\u001b[0m\u001b[1;33m.\u001b[0m\u001b[0m_NotOkStatusException\u001b[0m \u001b[1;32mas\u001b[0m \u001b[0me\u001b[0m\u001b[1;33m:\u001b[0m\u001b[1;33m\u001b[0m\u001b[1;33m\u001b[0m\u001b[0m\n\u001b[0;32m     62\u001b[0m     \u001b[1;32mif\u001b[0m \u001b[0mname\u001b[0m \u001b[1;32mis\u001b[0m \u001b[1;32mnot\u001b[0m \u001b[1;32mNone\u001b[0m\u001b[1;33m:\u001b[0m\u001b[1;33m\u001b[0m\u001b[1;33m\u001b[0m\u001b[0m\n",
      "\u001b[1;31mKeyboardInterrupt\u001b[0m: "
     ]
    }
   ],
   "source": [
    "\n",
    "from keras.callbacks import ModelCheckpoint\n",
    "\n",
    "checkpoint = ModelCheckpoint(\"vgg16_1.h5\", monitor='val_acc', verbose=1, save_best_only=True, mode='max')\n",
    "callbacks_list = [checkpoint]\n",
    "\n",
    "\n",
    "history = cnn.fit(training_set,\n",
    "                  steps_per_epoch = 3539//32,\n",
    "                  epochs = 30,\n",
    "                  validation_data = testing_set,\n",
    "                  validation_steps = 3539//32,\n",
    "                  callbacks=callbacks_list\n",
    "                 )\n",
    "\n",
    "\n",
    "\n"
   ]
  },
  {
   "cell_type": "markdown",
   "metadata": {
    "scrolled": false
   },
   "source": [
    "# Graphical Presentation\n",
    "\n"
   ]
  },
  {
   "cell_type": "code",
   "execution_count": 17,
   "metadata": {},
   "outputs": [
    {
     "data": {
      "image/png": "[encoded data removed]",
      "text/plain": [
       "<Figure size 576x576 with 2 Axes>"
      ]
     },
     "metadata": {
      "needs_background": "light"
     },
     "output_type": "display_data"
    }
   ],
   "source": [
    "\n",
    "acc = history.history['accuracy']\n",
    "val_acc = history.history['val_accuracy']\n",
    "\n",
    "loss=history.history['loss']\n",
    "val_loss=history.history['val_loss']\n",
    "\n",
    "epochs_range = range(50)\n",
    "\n",
    "plt.figure(figsize=(8, 8))\n",
    "plt.subplot(1, 2, 1)\n",
    "plt.plot(epochs_range, acc, label='Training Accuracy')\n",
    "plt.plot(epochs_range, val_acc, label='Validation Accuracy')\n",
    "plt.legend(loc='lower right')\n",
    "plt.title('Training and Validation Accuracy')\n",
    "\n",
    "plt.subplot(1, 2, 2)\n",
    "plt.plot(epochs_range, loss, label='Training Loss')\n",
    "plt.plot(epochs_range, val_loss, label='Validation Loss')\n",
    "plt.legend(loc='upper right')\n",
    "plt.title('Training and Validation Loss')\n",
    "plt.show()"
   ]
  },
  {
   "cell_type": "code",
   "execution_count": 18,
   "metadata": {},
   "outputs": [],
   "source": [
    "cnn.save('my_model1.h5') "
   ]
  },
  {
   "cell_type": "code",
   "execution_count": 19,
   "metadata": {},
   "outputs": [],
   "source": [
    "cnn.save_weights('my_model_weights1.h5')"
   ]
  },
  {
   "cell_type": "markdown",
   "metadata": {},
   "source": [
    "# Let's test our Model"
   ]
  },
  {
   "cell_type": "code",
   "execution_count": 19,
   "metadata": {},
   "outputs": [],
   "source": [
    "from keras.models import load_model\n",
    "import numpy as np\n",
    "import cv2\n",
    "pretrained_model = load_model('my_model1.h5')\n",
    "pretrained_model.load_weights('my_model_weights1.h5')"
   ]
  },
  {
   "cell_type": "code",
   "execution_count": 20,
   "metadata": {},
   "outputs": [
    {
     "name": "stdout",
     "output_type": "stream",
     "text": [
      "(150, 150, 3)\n",
      " after expand_dims: (1, 150, 150, 3)\n",
      "{'Bajaj Pulsar NS200': 0, 'Hero Glamour': 1, 'Hero Passion Pro 110': 2, 'Hero Splendor': 3, 'Honda Activa 6G': 4, 'Honda City': 5, 'Honda Shine': 6, 'Hyundai Creta': 7, 'KTM 200 Duke': 8, 'KTM RC 200': 9, 'MG Hector': 10, 'Mahindra Centuro': 11, 'Mahindra Scorpio': 12, 'Mahindra XUV300': 13, 'Maruti Suzuki Baleno': 14, 'Maruti Suzuki Celerio': 15, 'Maruti Suzuki Ciaz': 16, 'Maruti Suzuki Ertiga': 17, 'Maruti Suzuki Swift': 18, 'Maruti Suzuki Vitara Brezza': 19, 'Maruti Suzuki Wagon R': 20, 'Renault Duster': 21, 'Renault Kwid': 22, 'Royal Enfield Classic 350': 23, 'Royal Enfield Continental GT 650': 24, 'Royal Enfield Himalayan': 25, 'Royal Enfield Interceptor 650': 26, 'Royal Enfield Thunderbird 350X': 27, 'Suzuki Access 125': 28, 'Suzuki Burgman Street 125': 29, 'Suzuki Gixxer': 30, 'Suzuki Gixxer SF': 31, 'Suzuki Intruder 150': 32, 'TVS Apache RR310': 33, 'TVS Apache RTR 160 4V': 34, 'TVS Apache RTR 200 4V': 35, 'TVS Jupiter': 36, 'TVS Ntorq 125': 37, 'Tata Harrier': 38, 'Tata Nexon': 39, 'Toyota Fortuner': 40, 'Toyota Innova Crysta': 41, 'Vespa SXL 149': 42, 'Yamaha FZ S V3': 43, 'Yamaha MT 15': 44, 'Yamaha YZF R15 V3': 45}\n",
      "[6.3294332e-17 1.6372841e-15 4.1853974e-18 5.3208983e-13 3.7878960e-11\n",
      " 5.9357075e-10 2.7688779e-20 1.1384179e-11 2.8657218e-05 2.9786708e-15\n",
      " 5.1563710e-22 4.6176049e-10 3.4685069e-10 1.7466187e-17 9.9996257e-01\n",
      " 1.6581453e-08 2.5760932e-16 8.1205028e-14 5.0092580e-13 2.1579808e-12\n",
      " 4.5928682e-18 2.2287131e-12 4.4184589e-15 7.9124028e-17 2.5000275e-09\n",
      " 6.0460631e-10 6.1622999e-18 6.5186944e-12 2.8221065e-12 2.6453733e-06\n",
      " 1.6075411e-07 2.2133939e-09 4.5421322e-10 3.5861134e-09 6.8182775e-13\n",
      " 2.2749034e-09 5.2063715e-24 2.8263381e-10 7.5986784e-14 5.8576888e-06\n",
      " 6.8452584e-11 6.5867603e-08 9.3007402e-18 1.6314204e-19 2.0420510e-13\n",
      " 3.1727417e-13]\n",
      "Maruti Suzuki Baleno\n"
     ]
    }
   ],
   "source": [
    "test_image = cv2.imread('./Images/test/Maruti Suzuki Baleno/1460.png')\n",
    "\n",
    "test_image = cv2.resize(test_image,(150,150))\n",
    "\n",
    "print(test_image.shape)\n",
    "\n",
    "test_image = np.expand_dims(test_image, axis = 0 )\n",
    "test_image = test_image*1./255.0\n",
    "\n",
    "print(\" after expand_dims: \" +str(test_image.shape ))\n",
    "\n",
    "result = pretrained_model.predict(test_image)\n",
    "\n",
    "classes_predict = training_set.class_indices\n",
    "print(classes_predict)\n",
    "\n",
    "\n",
    "prediction_class =[]\n",
    "for class_name,index in classes_predict.items():\n",
    "    prediction_class.append(class_name)\n",
    "print(result[0]) \n",
    "\n",
    "predicted_index = np.argmax(result[0])\n",
    "\n",
    "\n",
    "print(prediction_class[predicted_index])\n",
    "\n"
   ]
  },
  {
   "cell_type": "markdown",
   "metadata": {
    "scrolled": true
   },
   "source": [
    "# Generating Report on the testing data\n"
   ]
  },
  {
   "cell_type": "code",
   "execution_count": 27,
   "metadata": {},
   "outputs": [
    {
     "name": "stdout",
     "output_type": "stream",
     "text": [
      "Found 3539 images belonging to 46 classes.\n",
      "[[55  4  2 ...  0  0  0]\n",
      " [ 0 71  2 ...  2  0  0]\n",
      " [ 0  1 51 ...  0  0  0]\n",
      " ...\n",
      " [ 0  0  0 ... 53  0  0]\n",
      " [ 0  0  0 ...  6 51  0]\n",
      " [ 0  0  0 ...  0  0 83]]\n",
      "                                  precision    recall  f1-score   support\n",
      "\n",
      "              Bajaj Pulsar NS200       0.98      0.82      0.89        67\n",
      "                    Hero Glamour       0.87      0.87      0.87        82\n",
      "            Hero Passion Pro 110       0.81      0.91      0.86        56\n",
      "                   Hero Splendor       0.54      0.96      0.69        69\n",
      "                 Honda Activa 6G       1.00      0.97      0.99        79\n",
      "                      Honda City       0.97      1.00      0.98        88\n",
      "                     Honda Shine       0.89      0.89      0.89        53\n",
      "                   Hyundai Creta       0.99      0.97      0.98        99\n",
      "                    KTM 200 Duke       0.97      1.00      0.98        60\n",
      "                      KTM RC 200       0.93      1.00      0.96        52\n",
      "                       MG Hector       1.00      0.96      0.98        46\n",
      "                Mahindra Centuro       0.98      1.00      0.99        49\n",
      "                Mahindra Scorpio       0.91      1.00      0.95        89\n",
      "                 Mahindra XUV300       0.95      1.00      0.98        80\n",
      "            Maruti Suzuki Baleno       0.99      0.95      0.97        79\n",
      "           Maruti Suzuki Celerio       1.00      0.94      0.97        84\n",
      "              Maruti Suzuki Ciaz       0.98      0.99      0.98        89\n",
      "            Maruti Suzuki Ertiga       0.98      1.00      0.99        89\n",
      "             Maruti Suzuki Swift       0.97      0.94      0.95        67\n",
      "     Maruti Suzuki Vitara Brezza       1.00      1.00      1.00        78\n",
      "           Maruti Suzuki Wagon R       1.00      0.97      0.99        80\n",
      "                  Renault Duster       0.97      1.00      0.98        88\n",
      "                    Renault Kwid       1.00      0.98      0.99        88\n",
      "       Royal Enfield Classic 350       0.90      0.57      0.70        65\n",
      "Royal Enfield Continental GT 650       0.70      0.78      0.74        82\n",
      "         Royal Enfield Himalayan       0.92      0.64      0.75        72\n",
      "   Royal Enfield Interceptor 650       0.81      0.62      0.70        76\n",
      "  Royal Enfield Thunderbird 350X       0.75      0.98      0.85        61\n",
      "               Suzuki Access 125       0.98      0.92      0.95        90\n",
      "       Suzuki Burgman Street 125       0.69      0.90      0.78        79\n",
      "                   Suzuki Gixxer       0.76      0.71      0.73        99\n",
      "                Suzuki Gixxer SF       0.74      0.85      0.79        61\n",
      "             Suzuki Intruder 150       0.80      0.90      0.85        87\n",
      "                TVS Apache RR310       0.89      0.96      0.92        91\n",
      "           TVS Apache RTR 160 4V       1.00      1.00      1.00       104\n",
      "           TVS Apache RTR 200 4V       0.98      1.00      0.99        84\n",
      "                     TVS Jupiter       1.00      0.62      0.77        79\n",
      "                   TVS Ntorq 125       1.00      0.94      0.97        62\n",
      "                    Tata Harrier       1.00      0.92      0.96       101\n",
      "                      Tata Nexon       0.98      0.93      0.95        87\n",
      "                 Toyota Fortuner       1.00      0.98      0.99        98\n",
      "            Toyota Innova Crysta       0.92      0.98      0.95        88\n",
      "                   Vespa SXL 149       0.95      0.98      0.97        43\n",
      "                  Yamaha FZ S V3       0.85      0.93      0.89        57\n",
      "                    Yamaha MT 15       0.98      0.68      0.80        75\n",
      "               Yamaha YZF R15 V3       0.99      0.95      0.97        87\n",
      "\n",
      "                        accuracy                           0.91      3539\n",
      "                       macro avg       0.92      0.91      0.91      3539\n",
      "                    weighted avg       0.92      0.91      0.91      3539\n",
      "\n"
     ]
    }
   ],
   "source": [
    "\n",
    "#Re-initializing the test dataset generator with shuffle=False to create the confusion metrix\n",
    "test_set = test_datagen.flow_from_directory('./Images/test',\n",
    "                                              target_size = (150,150),\n",
    "                                              batch_size = 8,\n",
    "                                              shuffle=False,\n",
    "                                              color_mode = \"rgb\", \n",
    "                                              class_mode = \"categorical\",\n",
    "                                              )\n",
    "\n",
    "filenames = test_set.filenames\n",
    "nb_samples = len(filenames)\n",
    "#print(nb_samples/51)\n",
    "\n",
    "#predict the whole to get prediction\n",
    "Y_predict = cnn.predict_generator(test_set,steps=None)\n",
    "\n",
    "#Find the prediction classes with maximun probability\n",
    "y_predict = np.argmax(Y_predict, axis = 1 )\n",
    "\n",
    "#Utilities for confusion matrix\n",
    "from sklearn.metrics import classification_report, confusion_matrix\n",
    "\n",
    "#Printing confusion matrix based on actual data vs prediction data \n",
    "print(confusion_matrix(test_set.classes, y_predict))\n",
    "\n",
    "\n",
    "#Printing the classification Report \n",
    "print(classification_report(test_set.classes, y_predict, target_names = prediction_class))\n"
   ]
  },
  {
   "cell_type": "code",
   "execution_count": null,
   "metadata": {},
   "outputs": [],
   "source": [
    "\n",
    "filenames = test_set.filenames\n",
    "nb_samples = len(filenames)\n",
    "print(nb_samples/51)\n"
   ]
  },
  {
   "cell_type": "code",
   "execution_count": 29,
   "metadata": {},
   "outputs": [],
   "source": [
    "model_json = cnn.to_json()\n",
    "with open(\"model_bw.json1\", \"w\") as json_file:\n",
    "    json_file.write(model_json)\n",
    "\n"
   ]
  },
  {
   "cell_type": "markdown",
   "metadata": {},
   "source": []
  },
  {
   "cell_type": "code",
   "execution_count": null,
   "metadata": {},
   "outputs": [],
   "source": []
  },
  {
   "cell_type": "code",
   "execution_count": null,
   "metadata": {},
   "outputs": [],
   "source": []
  },
  {
   "cell_type": "code",
   "execution_count": 3,
   "metadata": {},
   "outputs": [],
   "source": [
    "img = cv2.imread('00451.jpg')"
   ]
  },
  {
   "cell_type": "code",
   "execution_count": 6,
   "metadata": {},
   "outputs": [],
   "source": [
    "def extract_plate(img): # the function detects and perfors blurring on the number plate.\n",
    "\tplate_img = img.copy()\n",
    "\t\n",
    "\t#Loads the data required for detecting the license plates from cascade classifier.\n",
    "\tplate_cascade = cv2.CascadeClassifier('./indian_license_plate.xml')\n",
    "\n",
    "\t# detects numberplates and returns the coordinates and dimensions of detected license plate's contours.\n",
    "\tplate_rect = plate_cascade.detectMultiScale(plate_img, scaleFactor = 1.3, minNeighbors = 7)\n",
    "\n",
    "\tfor (x,y,w,h) in plate_rect:\n",
    "\t\ta,b = (int(0.02*img.shape[0]), int(0.025*img.shape[1])) #parameter tuning\n",
    "\t\tplate = plate_img[y+a:y+h-a, x+b:x+w-b, :]\n",
    "\t\t# finally representing the detected contours by drawing rectangles around the edges.\n",
    "\t\tcv2.rectangle(plate_img, (x,y), (x+w, y+h), (51,51,255), 3)\n",
    "        \n",
    "\treturn plate_img, plate # returning the processed image"
   ]
  },
  {
   "cell_type": "code",
   "execution_count": null,
   "metadata": {},
   "outputs": [],
   "source": []
  },
  {
   "cell_type": "code",
   "execution_count": null,
   "metadata": {},
   "outputs": [],
   "source": []
  },
  {
   "cell_type": "code",
   "execution_count": null,
   "metadata": {},
   "outputs": [],
   "source": []
  },
  {
   "cell_type": "code",
   "execution_count": null,
   "metadata": {},
   "outputs": [],
   "source": []
  },
  {
   "cell_type": "code",
   "execution_count": null,
   "metadata": {},
   "outputs": [],
   "source": []
  }
 ],
 "metadata": {
  "kernelspec": {
   "display_name": "Python 3",
   "language": "python",
   "name": "python3"
  },
  "language_info": {
   "codemirror_mode": {
    "name": "ipython",
    "version": 3
   },
   "file_extension": ".py",
   "mimetype": "text/x-python",
   "name": "python",
   "nbconvert_exporter": "python",
   "pygments_lexer": "ipython3",
   "version": "3.7.4"
  }
 },
 "nbformat": 4,
 "nbformat_minor": 2
}
